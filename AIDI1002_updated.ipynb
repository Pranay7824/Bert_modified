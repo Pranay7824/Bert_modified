{
 "cells": [
  {
   "cell_type": "code",
   "execution_count": 1,
   "id": "59c246e9-f094-4222-9c02-7b7c85890d03",
   "metadata": {},
   "outputs": [
    {
     "name": "stderr",
     "output_type": "stream",
     "text": [
      "C:\\Users\\prana\\anaconda3\\envs\\tf\\lib\\site-packages\\huggingface_hub\\file_download.py:1132: FutureWarning: `resume_download` is deprecated and will be removed in version 1.0.0. Downloads always resume when possible. If you want to force a new download, use `force_download=True`.\n",
      "  warnings.warn(\n",
      "All PyTorch model weights were used when initializing TFBertForSequenceClassification.\n",
      "\n",
      "Some weights or buffers of the TF 2.0 model TFBertForSequenceClassification were not initialized from the PyTorch model and are newly initialized: ['classifier.weight', 'classifier.bias']\n",
      "You should probably TRAIN this model on a down-stream task to be able to use it for predictions and inference.\n"
     ]
    }
   ],
   "source": [
    "from transformers import BertTokenizer, TFBertForSequenceClassification\n",
    "\n",
    "# Download and load the pre-trained BERT model and tokenizer from Hugging Face\n",
    "tokenizer = BertTokenizer.from_pretrained('bert-base-uncased')\n",
    "model = TFBertForSequenceClassification.from_pretrained('bert-base-uncased')\n"
   ]
  },
  {
   "cell_type": "code",
   "execution_count": 8,
   "id": "8e7595ed-ab26-41ef-be0c-57be07338602",
   "metadata": {},
   "outputs": [
    {
     "name": "stderr",
     "output_type": "stream",
     "text": [
      "[nltk_data] Downloading package movie_reviews to\n",
      "[nltk_data]     C:\\Users\\prana\\AppData\\Roaming\\nltk_data...\n",
      "[nltk_data]   Package movie_reviews is already up-to-date!\n",
      "[nltk_data] Downloading package punkt to\n",
      "[nltk_data]     C:\\Users\\prana\\AppData\\Roaming\\nltk_data...\n",
      "[nltk_data]   Package punkt is already up-to-date!\n"
     ]
    },
    {
     "name": "stdout",
     "output_type": "stream",
     "text": [
      "Epoch 1/3\n",
      "50/50 [==============================] - 1s 13ms/step - loss: 0.6899 - accuracy: 0.5506 - val_loss: 0.6825 - val_accuracy: 0.5475\n",
      "Epoch 2/3\n",
      "50/50 [==============================] - 1s 14ms/step - loss: 0.6428 - accuracy: 0.7094 - val_loss: 0.6078 - val_accuracy: 0.7525\n",
      "Epoch 3/3\n",
      "50/50 [==============================] - 1s 11ms/step - loss: 0.4800 - accuracy: 0.8800 - val_loss: 0.4788 - val_accuracy: 0.7725\n",
      "13/13 [==============================] - 0s 2ms/step - loss: 0.4788 - accuracy: 0.7725\n",
      "Test Accuracy: 0.7724999785423279\n"
     ]
    }
   ],
   "source": [
    "import numpy as np\n",
    "import pandas as pd\n",
    "import tensorflow as tf\n",
    "from tensorflow.keras.preprocessing.sequence import pad_sequences\n",
    "from tensorflow.keras.preprocessing.text import Tokenizer\n",
    "from sklearn.model_selection import train_test_split\n",
    "from nltk.corpus import movie_reviews\n",
    "from nltk.tokenize import word_tokenize\n",
    "import nltk\n",
    "\n",
    "# NLTK movie dataset\n",
    "nltk.download('movie_reviews')\n",
    "nltk.download('punkt')\n",
    "\n",
    "def load_movie_reviews():\n",
    "    reviews = []\n",
    "    labels = []\n",
    "    for fileid in movie_reviews.fileids():\n",
    "        # Use the first letter of the filename as the label: 'pos' or 'neg'\n",
    "        label = 1 if fileid.split('/')[0] == 'pos' else 0\n",
    "        with open(movie_reviews.abspath(fileid), 'r') as f:\n",
    "            reviews.append(f.read())\n",
    "            labels.append(label)\n",
    "    return reviews, labels\n",
    "\n",
    "reviews, labels = load_movie_reviews()\n",
    "\n",
    "# training and test sets\n",
    "X_train, X_test, y_train, y_test = train_test_split(reviews, labels, test_size=0.2, random_state=42)\n",
    "\n",
    "# Convert labels to NumPy arrays\n",
    "y_train = np.array(y_train)\n",
    "y_test = np.array(y_test)\n",
    "\n",
    "# Tokenization and padding\n",
    "tokenizer = Tokenizer(num_words=10000)\n",
    "tokenizer.fit_on_texts(X_train)\n",
    "\n",
    "X_train_seq = tokenizer.texts_to_sequences(X_train)\n",
    "X_test_seq = tokenizer.texts_to_sequences(X_test)\n",
    "\n",
    "max_length = 500\n",
    "X_train_pad = pad_sequences(X_train_seq, maxlen=max_length)\n",
    "X_test_pad = pad_sequences(X_test_seq, maxlen=max_length)\n",
    "\n",
    "# Build a simple model\n",
    "model = tf.keras.Sequential([\n",
    "    tf.keras.layers.Embedding(input_dim=10000, output_dim=128, input_length=max_length),\n",
    "    tf.keras.layers.GlobalAveragePooling1D(),\n",
    "    tf.keras.layers.Dense(64, activation='relu'),\n",
    "    tf.keras.layers.Dense(1, activation='sigmoid')\n",
    "])\n",
    "\n",
    "model.compile(optimizer='adam', loss='binary_crossentropy', metrics=['accuracy'])\n",
    "\n",
    "# Train\n",
    "history = model.fit(\n",
    "    X_train_pad, y_train,\n",
    "    epochs=3,\n",
    "    batch_size=32,\n",
    "    validation_data=(X_test_pad, y_test)\n",
    ")\n",
    "\n",
    "# Evaluate\n",
    "test_loss, test_acc = model.evaluate(X_test_pad, y_test)\n",
    "print(f\"Test Accuracy: {test_acc}\")\n"
   ]
  },
  {
   "cell_type": "code",
   "execution_count": 10,
   "id": "c6ed3317-737f-4158-83a1-a0a3cbf7715e",
   "metadata": {},
   "outputs": [
    {
     "name": "stderr",
     "output_type": "stream",
     "text": [
      "Some weights of the PyTorch model were not used when initializing the TF 2.0 model TFBertModel: ['cls.predictions.transform.dense.weight', 'cls.predictions.transform.LayerNorm.bias', 'cls.predictions.bias', 'cls.predictions.transform.LayerNorm.weight', 'cls.seq_relationship.bias', 'cls.predictions.transform.dense.bias', 'cls.seq_relationship.weight']\n",
      "- This IS expected if you are initializing TFBertModel from a PyTorch model trained on another task or with another architecture (e.g. initializing a TFBertForSequenceClassification model from a BertForPreTraining model).\n",
      "- This IS NOT expected if you are initializing TFBertModel from a PyTorch model that you expect to be exactly identical (e.g. initializing a TFBertForSequenceClassification model from a BertForSequenceClassification model).\n",
      "All the weights of TFBertModel were initialized from the PyTorch model.\n",
      "If your task is similar to the task the model of the checkpoint was trained on, you can already use TFBertModel for predictions without further training.\n"
     ]
    },
    {
     "name": "stdout",
     "output_type": "stream",
     "text": [
      "Epoch 1/3\n",
      "WARNING:tensorflow:Gradients do not exist for variables ['tf_bert_model/bert/pooler/dense/kernel:0', 'tf_bert_model/bert/pooler/dense/bias:0'] when minimizing the loss. If you're using `model.compile()`, did you forget to provide a `loss` argument?\n",
      "WARNING:tensorflow:Gradients do not exist for variables ['tf_bert_model/bert/pooler/dense/kernel:0', 'tf_bert_model/bert/pooler/dense/bias:0'] when minimizing the loss. If you're using `model.compile()`, did you forget to provide a `loss` argument?\n",
      "50/50 [==============================] - 3215s 64s/step - loss: 0.6009 - accuracy: 0.6419 - val_loss: 0.4507 - val_accuracy: 0.7950\n",
      "Epoch 2/3\n",
      "50/50 [==============================] - 1758s 35s/step - loss: 0.3253 - accuracy: 0.8656 - val_loss: 0.3968 - val_accuracy: 0.8150\n",
      "Epoch 3/3\n",
      "50/50 [==============================] - 1718s 34s/step - loss: 0.1459 - accuracy: 0.9450 - val_loss: 0.3043 - val_accuracy: 0.8850\n",
      "13/13 [==============================] - 134s 10s/step - loss: 0.3043 - accuracy: 0.8850\n",
      "Modified Test Accuracy: 0.8849999904632568\n"
     ]
    }
   ],
   "source": [
    "from transformers import TFBertModel, BertTokenizer\n",
    "import tensorflow as tf\n",
    "from tensorflow.keras.layers import Dense, Input, GlobalAveragePooling1D\n",
    "\n",
    "tokenizer = BertTokenizer.from_pretrained('bert-base-uncased')\n",
    "bert_model = TFBertModel.from_pretrained('bert-base-uncased')\n",
    "\n",
    "# additional dense layers\n",
    "input_ids = Input(shape=(512,), dtype='int32')\n",
    "attention_mask = Input(shape=(512,), dtype='int32')\n",
    "\n",
    "# Extract BERT outputs\n",
    "bert_output = bert_model(input_ids, attention_mask=attention_mask)[0]\n",
    "\n",
    "pooled_output = GlobalAveragePooling1D()(bert_output)\n",
    "\n",
    "# Add dense layers on top of BERT output\n",
    "dense_output = Dense(64, activation='relu')(pooled_output)\n",
    "output = Dense(1, activation='sigmoid')(dense_output)\n",
    "\n",
    "modified_model = tf.keras.Model(inputs=[input_ids, attention_mask], outputs=output)\n",
    "\n",
    "# different learning rate\n",
    "modified_model.compile(optimizer=tf.keras.optimizers.Adam(learning_rate=3e-5), loss='binary_crossentropy', metrics=['accuracy'])\n",
    "\n",
    "def encode_data(texts):\n",
    "    encodings = tokenizer(texts, truncation=True, padding=True, max_length=512, return_tensors='tf')\n",
    "    return encodings['input_ids'], encodings['attention_mask']\n",
    "\n",
    "X_train_enc = encode_data(X_train)\n",
    "X_test_enc = encode_data(X_test)\n",
    "\n",
    "# Train\n",
    "modified_model.fit(\n",
    "    [X_train_enc[0], X_train_enc[1]],  # input_ids and attention_mask\n",
    "    y_train,\n",
    "    epochs=3,\n",
    "    batch_size=32,\n",
    "    validation_data=([X_test_enc[0], X_test_enc[1]], y_test)\n",
    ")\n",
    "\n",
    "# Evaluate\n",
    "modified_results = modified_model.evaluate([X_test_enc[0], X_test_enc[1]], y_test)\n",
    "print(f\"Modified Test Accuracy: {modified_results[1]}\")\n"
   ]
  },
  {
   "cell_type": "code",
   "execution_count": null,
   "id": "e5f6c529-c4ef-4219-b2f8-afdc16c4cb0d",
   "metadata": {},
   "outputs": [],
   "source": []
  }
 ],
 "metadata": {
  "kernelspec": {
   "display_name": "Python 3 (ipykernel)",
   "language": "python",
   "name": "python3"
  },
  "language_info": {
   "codemirror_mode": {
    "name": "ipython",
    "version": 3
   },
   "file_extension": ".py",
   "mimetype": "text/x-python",
   "name": "python",
   "nbconvert_exporter": "python",
   "pygments_lexer": "ipython3",
   "version": "3.10.13"
  }
 },
 "nbformat": 4,
 "nbformat_minor": 5
}
